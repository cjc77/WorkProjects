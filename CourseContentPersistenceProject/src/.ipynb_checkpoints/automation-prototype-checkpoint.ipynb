{
 "cells": [
  {
   "cell_type": "markdown",
   "metadata": {},
   "source": [
    "<h1>Import Course Data</h1>"
   ]
  },
  {
   "cell_type": "code",
   "execution_count": 1,
   "metadata": {
    "collapsed": true
   },
   "outputs": [],
   "source": [
    "files = {\"course\": \"Course.tsv\",\n",
    "         \"readings\": \"Readings.tsv\",\n",
    "         \"videos\": \"Videos.tsv\"\n",
    "        }\n",
    "dir_path = \"../courses/\"\n",
    "file_paths = [\n",
    "                \"A/\",\n",
    "                \"B/\",\n",
    "                \"C/\"\n",
    "             ]"
   ]
  },
  {
   "cell_type": "markdown",
   "metadata": {},
   "source": [
    "<h1>Collect Data From All Courses</h1>"
   ]
  },
  {
   "cell_type": "code",
   "execution_count": 2,
   "metadata": {
    "collapsed": true
   },
   "outputs": [],
   "source": [
    "import _mypath\n",
    "from course import Course"
   ]
  },
  {
   "cell_type": "code",
   "execution_count": 3,
   "metadata": {},
   "outputs": [
    {
     "name": "stdout",
     "output_type": "stream",
     "text": [
      "['A', 'smith, sue', 1111.25, 0.08, 0.0, 0.2]\n",
      "['B', 'johnson, john', 1111.25, 0.59, 0.8, 0.56]\n",
      "['C', 'davis, betty', 1111.25, 0.75, 0.92, 0.67]\n"
     ]
    }
   ],
   "source": [
    "# Erase old content and \n",
    "# Output in the form of tsv: course, coordinator, age diff, total score, reading score, video score\n",
    "for fp in file_paths:\n",
    "    curr_course = Course(dir_path + fp, files)\n",
    "    curr_course.score()\n",
    "    curr_course.calc_age_gap()\n",
    "    row = [\n",
    "            curr_course.course_title,\n",
    "            curr_course.coordinator,\n",
    "            curr_course.age_gap,\n",
    "            curr_course.full_score,\n",
    "            curr_course.read_score,\n",
    "            curr_course.vid_score\n",
    "          ]\n",
    "    print(row)\n"
   ]
  }
 ],
 "metadata": {
  "kernelspec": {
   "display_name": "Python 3",
   "language": "python",
   "name": "python3"
  },
  "language_info": {
   "codemirror_mode": {
    "name": "ipython",
    "version": 3
   },
   "file_extension": ".py",
   "mimetype": "text/x-python",
   "name": "python",
   "nbconvert_exporter": "python",
   "pygments_lexer": "ipython3",
   "version": "3.6.2"
  }
 },
 "nbformat": 4,
 "nbformat_minor": 2
}
