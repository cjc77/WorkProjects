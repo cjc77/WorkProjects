{
 "cells": [
  {
   "cell_type": "markdown",
   "metadata": {},
   "source": [
    "<h1>Import Course Data</h1>"
   ]
  },
  {
   "cell_type": "code",
   "execution_count": 1,
   "metadata": {
    "collapsed": true
   },
   "outputs": [],
   "source": [
    "dir_path = \"../courses/A/\"\n",
    "files = {\"course\": \"Course.tsv\",\n",
    "         \"readings\": \"Readings.tsv\",\n",
    "         \"videos\": \"Videos.tsv\"\n",
    "        }"
   ]
  },
  {
   "cell_type": "markdown",
   "metadata": {},
   "source": [
    "<h1>Set Up Course</h1>"
   ]
  },
  {
   "cell_type": "code",
   "execution_count": 2,
   "metadata": {
    "collapsed": true
   },
   "outputs": [],
   "source": [
    "import _mypath\n",
    "from course import Course"
   ]
  },
  {
   "cell_type": "code",
   "execution_count": 3,
   "metadata": {
    "scrolled": false
   },
   "outputs": [
    {
     "name": "stdout",
     "output_type": "stream",
     "text": [
      "Age Gap Between First Term Taught and Last Term Taught: 1111.25 Years\n",
      "Original Material Still Present in LTT:\n",
      "Reading Score: 0%\n",
      "Video Score: 20%\n",
      "Full Score: 8%\n"
     ]
    }
   ],
   "source": [
    "crs = Course(dir_path, files)\n",
    "crs.score()\n",
    "crs.calc_age_gap()\n",
    "print(\"Age Gap Between First Term Taught and Last Term Taught: {} Years\".format(crs.age_gap))\n",
    "print(\"Original Material Still Present in LTT:\")\n",
    "print(\"Reading Score: {:.0%}\".format(crs.read_score))\n",
    "print(\"Video Score: {:.0%}\".format(crs.vid_score))\n",
    "print(\"Full Score: {:.0%}\".format(crs.full_score))\n",
    "\n"
   ]
  }
 ],
 "metadata": {
  "kernelspec": {
   "display_name": "Python 3",
   "language": "python",
   "name": "python3"
  },
  "language_info": {
   "codemirror_mode": {
    "name": "ipython",
    "version": 3
   },
   "file_extension": ".py",
   "mimetype": "text/x-python",
   "name": "python",
   "nbconvert_exporter": "python",
   "pygments_lexer": "ipython3",
   "version": "3.6.2"
  }
 },
 "nbformat": 4,
 "nbformat_minor": 2
}
